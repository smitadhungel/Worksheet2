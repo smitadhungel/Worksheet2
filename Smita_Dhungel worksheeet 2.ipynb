{
 "cells": [
  {
   "cell_type": "markdown",
   "metadata": {
    "id": "PN-ivOqXbgmz"
   },
   "source": [
    "1. Load the provided dataset and import in pandas DataFrame."
   ]
  },
  {
   "cell_type": "code",
   "execution_count": 8,
   "metadata": {
    "id": "YYFQxkBsbb-H"
   },
   "outputs": [],
   "source": [
    "import pandas as pd\n",
    "\n",
    "# Load the dataset\n",
    "data = pd.read_csv(\"/content/bank .csv\")\n"
   ]
  },
  {
   "cell_type": "markdown",
   "metadata": {
    "id": "Mh51-sOXcghb"
   },
   "source": [
    "2. Check info of the DataFrame and identify following:\n",
    "(a) columns with dtypes=object\n",
    "(b) unique values of those columns.\n",
    "(c) check for the total number of null values in each column"
   ]
  },
  {
   "cell_type": "code",
   "execution_count": 9,
   "metadata": {
    "colab": {
     "base_uri": "https://localhost:8080/"
    },
    "id": "kFMk40_obcyw",
    "outputId": "343b0887-8059-4a2d-8e79-54887ae517f6"
   },
   "outputs": [
    {
     "name": "stdout",
     "output_type": "stream",
     "text": [
      "<class 'pandas.core.frame.DataFrame'>\n",
      "RangeIndex: 45211 entries, 0 to 45210\n",
      "Data columns (total 17 columns):\n",
      " #   Column     Non-Null Count  Dtype \n",
      "---  ------     --------------  ----- \n",
      " 0   age        45211 non-null  int64 \n",
      " 1   job        45211 non-null  object\n",
      " 2   marital    45211 non-null  object\n",
      " 3   education  45211 non-null  object\n",
      " 4   default    45211 non-null  object\n",
      " 5   balance    45211 non-null  int64 \n",
      " 6   housing    45211 non-null  object\n",
      " 7   loan       45211 non-null  object\n",
      " 8   contact    45211 non-null  object\n",
      " 9   day        45211 non-null  int64 \n",
      " 10  month      45211 non-null  object\n",
      " 11  duration   45211 non-null  int64 \n",
      " 12  campaign   45211 non-null  int64 \n",
      " 13  pdays      45211 non-null  int64 \n",
      " 14  previous   45211 non-null  int64 \n",
      " 15  poutcome   45211 non-null  object\n",
      " 16  y          45211 non-null  object\n",
      "dtypes: int64(7), object(10)\n",
      "memory usage: 5.9+ MB\n",
      "Object Columns: Index(['job', 'marital', 'education', 'default', 'housing', 'loan', 'contact',\n",
      "       'month', 'poutcome', 'y'],\n",
      "      dtype='object')\n",
      "Unique Values in Object Columns: {'job': array(['management', 'technician', 'entrepreneur', 'blue-collar',\n",
      "       'unknown', 'retired', 'admin.', 'services', 'self-employed',\n",
      "       'unemployed', 'housemaid', 'student'], dtype=object), 'marital': array(['married', 'single', 'divorced'], dtype=object), 'education': array(['tertiary', 'secondary', 'unknown', 'primary'], dtype=object), 'default': array(['no', 'yes'], dtype=object), 'housing': array(['yes', 'no'], dtype=object), 'loan': array(['no', 'yes'], dtype=object), 'contact': array(['unknown', 'cellular', 'telephone'], dtype=object), 'month': array(['may', 'jun', 'jul', 'aug', 'oct', 'nov', 'dec', 'jan', 'feb',\n",
      "       'mar', 'apr', 'sep'], dtype=object), 'poutcome': array(['unknown', 'failure', 'other', 'success'], dtype=object), 'y': array(['no', 'yes'], dtype=object)}\n",
      "Null Values in Each Column:\n",
      " age          0\n",
      "job          0\n",
      "marital      0\n",
      "education    0\n",
      "default      0\n",
      "balance      0\n",
      "housing      0\n",
      "loan         0\n",
      "contact      0\n",
      "day          0\n",
      "month        0\n",
      "duration     0\n",
      "campaign     0\n",
      "pdays        0\n",
      "previous     0\n",
      "poutcome     0\n",
      "y            0\n",
      "dtype: int64\n"
     ]
    }
   ],
   "source": [
    "# Get DataFrame information\n",
    "data_info = data.info()\n",
    "\n",
    "# Identify columns with dtype=object\n",
    "object_columns = data.select_dtypes(include=['object']).columns\n",
    "\n",
    "# Find unique values in object columns\n",
    "unique_values = {col: data[col].unique() for col in object_columns}\n",
    "\n",
    "# Check for null values in each column\n",
    "null_values = data.isnull().sum()\n",
    "\n",
    "# Display results\n",
    "print(\"Object Columns:\", object_columns)\n",
    "print(\"Unique Values in Object Columns:\", unique_values)\n",
    "print(\"Null Values in Each Column:\\n\", null_values)\n"
   ]
  },
  {
   "cell_type": "markdown",
   "metadata": {
    "id": "UDOCSGdccjU6"
   },
   "source": [
    "3. Drop all the columns with dtypes object and store in new DataFrame, also write the DataFrame in\n",
    "”.csv” with name ”banknumericdata.csv”"
   ]
  },
  {
   "cell_type": "code",
   "execution_count": 10,
   "metadata": {
    "id": "ZTtCsnqcbc1O"
   },
   "outputs": [],
   "source": [
    "# Drop object columns\n",
    "numeric_data = data.drop(columns=object_columns)\n",
    "\n",
    "# Save the new numeric DataFrame to a CSV file\n",
    "numeric_data.to_csv(\"banknumericdata.csv\", index=False)\n"
   ]
  },
  {
   "cell_type": "markdown",
   "metadata": {
    "id": "pa9EPb7ccla4"
   },
   "source": [
    "4. Read ”banknumericdata.csv” and Find the summary statistics.\n"
   ]
  },
  {
   "cell_type": "code",
   "execution_count": 7,
   "metadata": {
    "colab": {
     "base_uri": "https://localhost:8080/"
    },
    "id": "TWTIfh0hbc6M",
    "outputId": "b15d7c88-715e-446b-af72-2b06cea9ccb7"
   },
   "outputs": [
    {
     "name": "stdout",
     "output_type": "stream",
     "text": [
      "                age        balance           day      duration      campaign  \\\n",
      "count  45211.000000   45211.000000  45211.000000  45211.000000  45211.000000   \n",
      "mean      40.936210    1362.272058     15.806419    258.163080      2.763841   \n",
      "std       10.618762    3044.765829      8.322476    257.527812      3.098021   \n",
      "min       18.000000   -8019.000000      1.000000      0.000000      1.000000   \n",
      "25%       33.000000      72.000000      8.000000    103.000000      1.000000   \n",
      "50%       39.000000     448.000000     16.000000    180.000000      2.000000   \n",
      "75%       48.000000    1428.000000     21.000000    319.000000      3.000000   \n",
      "max       95.000000  102127.000000     31.000000   4918.000000     63.000000   \n",
      "\n",
      "              pdays      previous  \n",
      "count  45211.000000  45211.000000  \n",
      "mean      40.197828      0.580323  \n",
      "std      100.128746      2.303441  \n",
      "min       -1.000000      0.000000  \n",
      "25%       -1.000000      0.000000  \n",
      "50%       -1.000000      0.000000  \n",
      "75%       -1.000000      0.000000  \n",
      "max      871.000000    275.000000  \n"
     ]
    }
   ],
   "source": [
    "# Load the numeric data\n",
    "numeric_data = pd.read_csv(\"banknumericdata.csv\")\n",
    "\n",
    "# Display summary statistics\n",
    "summary_statistics = numeric_data.describe()\n",
    "print(summary_statistics)\n"
   ]
  },
  {
   "cell_type": "markdown",
   "metadata": {
    "id": "5p1B6LRsdHkW"
   },
   "source": [
    "• Dataset for the Task: \"medical_student.csv\"\n",
    "1. Load the provided dataset and import in pandas DataFrame."
   ]
  },
  {
   "cell_type": "code",
   "execution_count": 16,
   "metadata": {
    "colab": {
     "base_uri": "https://localhost:8080/",
     "height": 206
    },
    "id": "OHJKTEZEbc-6",
    "outputId": "22ba84c3-8f49-4e2e-d214-f38e815a5648"
   },
   "outputs": [
    {
     "data": {
      "application/vnd.google.colaboratory.intrinsic+json": {
       "summary": "{\n  \"name\": \"data\",\n  \"rows\": 45211,\n  \"fields\": [\n    {\n      \"column\": \"age\",\n      \"properties\": {\n        \"dtype\": \"number\",\n        \"std\": 10,\n        \"min\": 18,\n        \"max\": 95,\n        \"num_unique_values\": 77,\n        \"samples\": [\n          35,\n          34,\n          53\n        ],\n        \"semantic_type\": \"\",\n        \"description\": \"\"\n      }\n    },\n    {\n      \"column\": \"balance\",\n      \"properties\": {\n        \"dtype\": \"number\",\n        \"std\": 3044,\n        \"min\": -8019,\n        \"max\": 102127,\n        \"num_unique_values\": 7168,\n        \"samples\": [\n          3276,\n          43,\n          7003\n        ],\n        \"semantic_type\": \"\",\n        \"description\": \"\"\n      }\n    },\n    {\n      \"column\": \"day\",\n      \"properties\": {\n        \"dtype\": \"number\",\n        \"std\": 8,\n        \"min\": 1,\n        \"max\": 31,\n        \"num_unique_values\": 31,\n        \"samples\": [\n          1,\n          27,\n          17\n        ],\n        \"semantic_type\": \"\",\n        \"description\": \"\"\n      }\n    },\n    {\n      \"column\": \"duration\",\n      \"properties\": {\n        \"dtype\": \"number\",\n        \"std\": 257,\n        \"min\": 0,\n        \"max\": 4918,\n        \"num_unique_values\": 1573,\n        \"samples\": [\n          835,\n          1135,\n          1735\n        ],\n        \"semantic_type\": \"\",\n        \"description\": \"\"\n      }\n    },\n    {\n      \"column\": \"campaign\",\n      \"properties\": {\n        \"dtype\": \"number\",\n        \"std\": 3,\n        \"min\": 1,\n        \"max\": 63,\n        \"num_unique_values\": 48,\n        \"samples\": [\n          41,\n          27,\n          63\n        ],\n        \"semantic_type\": \"\",\n        \"description\": \"\"\n      }\n    },\n    {\n      \"column\": \"pdays\",\n      \"properties\": {\n        \"dtype\": \"number\",\n        \"std\": 100,\n        \"min\": -1,\n        \"max\": 871,\n        \"num_unique_values\": 559,\n        \"samples\": [\n          249,\n          551,\n          127\n        ],\n        \"semantic_type\": \"\",\n        \"description\": \"\"\n      }\n    },\n    {\n      \"column\": \"previous\",\n      \"properties\": {\n        \"dtype\": \"number\",\n        \"std\": 2,\n        \"min\": 0,\n        \"max\": 275,\n        \"num_unique_values\": 41,\n        \"samples\": [\n          17,\n          9,\n          5\n        ],\n        \"semantic_type\": \"\",\n        \"description\": \"\"\n      }\n    }\n  ]\n}",
       "type": "dataframe",
       "variable_name": "data"
      },
      "text/html": [
       "\n",
       "  <div id=\"df-906986d0-2496-4010-b4b5-e2fb03752f29\" class=\"colab-df-container\">\n",
       "    <div>\n",
       "<style scoped>\n",
       "    .dataframe tbody tr th:only-of-type {\n",
       "        vertical-align: middle;\n",
       "    }\n",
       "\n",
       "    .dataframe tbody tr th {\n",
       "        vertical-align: top;\n",
       "    }\n",
       "\n",
       "    .dataframe thead th {\n",
       "        text-align: right;\n",
       "    }\n",
       "</style>\n",
       "<table border=\"1\" class=\"dataframe\">\n",
       "  <thead>\n",
       "    <tr style=\"text-align: right;\">\n",
       "      <th></th>\n",
       "      <th>age</th>\n",
       "      <th>balance</th>\n",
       "      <th>day</th>\n",
       "      <th>duration</th>\n",
       "      <th>campaign</th>\n",
       "      <th>pdays</th>\n",
       "      <th>previous</th>\n",
       "    </tr>\n",
       "  </thead>\n",
       "  <tbody>\n",
       "    <tr>\n",
       "      <th>0</th>\n",
       "      <td>58</td>\n",
       "      <td>2143</td>\n",
       "      <td>5</td>\n",
       "      <td>261</td>\n",
       "      <td>1</td>\n",
       "      <td>-1</td>\n",
       "      <td>0</td>\n",
       "    </tr>\n",
       "    <tr>\n",
       "      <th>1</th>\n",
       "      <td>44</td>\n",
       "      <td>29</td>\n",
       "      <td>5</td>\n",
       "      <td>151</td>\n",
       "      <td>1</td>\n",
       "      <td>-1</td>\n",
       "      <td>0</td>\n",
       "    </tr>\n",
       "    <tr>\n",
       "      <th>2</th>\n",
       "      <td>33</td>\n",
       "      <td>2</td>\n",
       "      <td>5</td>\n",
       "      <td>76</td>\n",
       "      <td>1</td>\n",
       "      <td>-1</td>\n",
       "      <td>0</td>\n",
       "    </tr>\n",
       "    <tr>\n",
       "      <th>3</th>\n",
       "      <td>47</td>\n",
       "      <td>1506</td>\n",
       "      <td>5</td>\n",
       "      <td>92</td>\n",
       "      <td>1</td>\n",
       "      <td>-1</td>\n",
       "      <td>0</td>\n",
       "    </tr>\n",
       "    <tr>\n",
       "      <th>4</th>\n",
       "      <td>33</td>\n",
       "      <td>1</td>\n",
       "      <td>5</td>\n",
       "      <td>198</td>\n",
       "      <td>1</td>\n",
       "      <td>-1</td>\n",
       "      <td>0</td>\n",
       "    </tr>\n",
       "  </tbody>\n",
       "</table>\n",
       "</div>\n",
       "    <div class=\"colab-df-buttons\">\n",
       "\n",
       "  <div class=\"colab-df-container\">\n",
       "    <button class=\"colab-df-convert\" onclick=\"convertToInteractive('df-906986d0-2496-4010-b4b5-e2fb03752f29')\"\n",
       "            title=\"Convert this dataframe to an interactive table.\"\n",
       "            style=\"display:none;\">\n",
       "\n",
       "  <svg xmlns=\"http://www.w3.org/2000/svg\" height=\"24px\" viewBox=\"0 -960 960 960\">\n",
       "    <path d=\"M120-120v-720h720v720H120Zm60-500h600v-160H180v160Zm220 220h160v-160H400v160Zm0 220h160v-160H400v160ZM180-400h160v-160H180v160Zm440 0h160v-160H620v160ZM180-180h160v-160H180v160Zm440 0h160v-160H620v160Z\"/>\n",
       "  </svg>\n",
       "    </button>\n",
       "\n",
       "  <style>\n",
       "    .colab-df-container {\n",
       "      display:flex;\n",
       "      gap: 12px;\n",
       "    }\n",
       "\n",
       "    .colab-df-convert {\n",
       "      background-color: #E8F0FE;\n",
       "      border: none;\n",
       "      border-radius: 50%;\n",
       "      cursor: pointer;\n",
       "      display: none;\n",
       "      fill: #1967D2;\n",
       "      height: 32px;\n",
       "      padding: 0 0 0 0;\n",
       "      width: 32px;\n",
       "    }\n",
       "\n",
       "    .colab-df-convert:hover {\n",
       "      background-color: #E2EBFA;\n",
       "      box-shadow: 0px 1px 2px rgba(60, 64, 67, 0.3), 0px 1px 3px 1px rgba(60, 64, 67, 0.15);\n",
       "      fill: #174EA6;\n",
       "    }\n",
       "\n",
       "    .colab-df-buttons div {\n",
       "      margin-bottom: 4px;\n",
       "    }\n",
       "\n",
       "    [theme=dark] .colab-df-convert {\n",
       "      background-color: #3B4455;\n",
       "      fill: #D2E3FC;\n",
       "    }\n",
       "\n",
       "    [theme=dark] .colab-df-convert:hover {\n",
       "      background-color: #434B5C;\n",
       "      box-shadow: 0px 1px 3px 1px rgba(0, 0, 0, 0.15);\n",
       "      filter: drop-shadow(0px 1px 2px rgba(0, 0, 0, 0.3));\n",
       "      fill: #FFFFFF;\n",
       "    }\n",
       "  </style>\n",
       "\n",
       "    <script>\n",
       "      const buttonEl =\n",
       "        document.querySelector('#df-906986d0-2496-4010-b4b5-e2fb03752f29 button.colab-df-convert');\n",
       "      buttonEl.style.display =\n",
       "        google.colab.kernel.accessAllowed ? 'block' : 'none';\n",
       "\n",
       "      async function convertToInteractive(key) {\n",
       "        const element = document.querySelector('#df-906986d0-2496-4010-b4b5-e2fb03752f29');\n",
       "        const dataTable =\n",
       "          await google.colab.kernel.invokeFunction('convertToInteractive',\n",
       "                                                    [key], {});\n",
       "        if (!dataTable) return;\n",
       "\n",
       "        const docLinkHtml = 'Like what you see? Visit the ' +\n",
       "          '<a target=\"_blank\" href=https://colab.research.google.com/notebooks/data_table.ipynb>data table notebook</a>'\n",
       "          + ' to learn more about interactive tables.';\n",
       "        element.innerHTML = '';\n",
       "        dataTable['output_type'] = 'display_data';\n",
       "        await google.colab.output.renderOutput(dataTable, element);\n",
       "        const docLink = document.createElement('div');\n",
       "        docLink.innerHTML = docLinkHtml;\n",
       "        element.appendChild(docLink);\n",
       "      }\n",
       "    </script>\n",
       "  </div>\n",
       "\n",
       "\n",
       "<div id=\"df-ba0b600b-80a4-4b87-a2b1-d7c3b868e51d\">\n",
       "  <button class=\"colab-df-quickchart\" onclick=\"quickchart('df-ba0b600b-80a4-4b87-a2b1-d7c3b868e51d')\"\n",
       "            title=\"Suggest charts\"\n",
       "            style=\"display:none;\">\n",
       "\n",
       "<svg xmlns=\"http://www.w3.org/2000/svg\" height=\"24px\"viewBox=\"0 0 24 24\"\n",
       "     width=\"24px\">\n",
       "    <g>\n",
       "        <path d=\"M19 3H5c-1.1 0-2 .9-2 2v14c0 1.1.9 2 2 2h14c1.1 0 2-.9 2-2V5c0-1.1-.9-2-2-2zM9 17H7v-7h2v7zm4 0h-2V7h2v10zm4 0h-2v-4h2v4z\"/>\n",
       "    </g>\n",
       "</svg>\n",
       "  </button>\n",
       "\n",
       "<style>\n",
       "  .colab-df-quickchart {\n",
       "      --bg-color: #E8F0FE;\n",
       "      --fill-color: #1967D2;\n",
       "      --hover-bg-color: #E2EBFA;\n",
       "      --hover-fill-color: #174EA6;\n",
       "      --disabled-fill-color: #AAA;\n",
       "      --disabled-bg-color: #DDD;\n",
       "  }\n",
       "\n",
       "  [theme=dark] .colab-df-quickchart {\n",
       "      --bg-color: #3B4455;\n",
       "      --fill-color: #D2E3FC;\n",
       "      --hover-bg-color: #434B5C;\n",
       "      --hover-fill-color: #FFFFFF;\n",
       "      --disabled-bg-color: #3B4455;\n",
       "      --disabled-fill-color: #666;\n",
       "  }\n",
       "\n",
       "  .colab-df-quickchart {\n",
       "    background-color: var(--bg-color);\n",
       "    border: none;\n",
       "    border-radius: 50%;\n",
       "    cursor: pointer;\n",
       "    display: none;\n",
       "    fill: var(--fill-color);\n",
       "    height: 32px;\n",
       "    padding: 0;\n",
       "    width: 32px;\n",
       "  }\n",
       "\n",
       "  .colab-df-quickchart:hover {\n",
       "    background-color: var(--hover-bg-color);\n",
       "    box-shadow: 0 1px 2px rgba(60, 64, 67, 0.3), 0 1px 3px 1px rgba(60, 64, 67, 0.15);\n",
       "    fill: var(--button-hover-fill-color);\n",
       "  }\n",
       "\n",
       "  .colab-df-quickchart-complete:disabled,\n",
       "  .colab-df-quickchart-complete:disabled:hover {\n",
       "    background-color: var(--disabled-bg-color);\n",
       "    fill: var(--disabled-fill-color);\n",
       "    box-shadow: none;\n",
       "  }\n",
       "\n",
       "  .colab-df-spinner {\n",
       "    border: 2px solid var(--fill-color);\n",
       "    border-color: transparent;\n",
       "    border-bottom-color: var(--fill-color);\n",
       "    animation:\n",
       "      spin 1s steps(1) infinite;\n",
       "  }\n",
       "\n",
       "  @keyframes spin {\n",
       "    0% {\n",
       "      border-color: transparent;\n",
       "      border-bottom-color: var(--fill-color);\n",
       "      border-left-color: var(--fill-color);\n",
       "    }\n",
       "    20% {\n",
       "      border-color: transparent;\n",
       "      border-left-color: var(--fill-color);\n",
       "      border-top-color: var(--fill-color);\n",
       "    }\n",
       "    30% {\n",
       "      border-color: transparent;\n",
       "      border-left-color: var(--fill-color);\n",
       "      border-top-color: var(--fill-color);\n",
       "      border-right-color: var(--fill-color);\n",
       "    }\n",
       "    40% {\n",
       "      border-color: transparent;\n",
       "      border-right-color: var(--fill-color);\n",
       "      border-top-color: var(--fill-color);\n",
       "    }\n",
       "    60% {\n",
       "      border-color: transparent;\n",
       "      border-right-color: var(--fill-color);\n",
       "    }\n",
       "    80% {\n",
       "      border-color: transparent;\n",
       "      border-right-color: var(--fill-color);\n",
       "      border-bottom-color: var(--fill-color);\n",
       "    }\n",
       "    90% {\n",
       "      border-color: transparent;\n",
       "      border-bottom-color: var(--fill-color);\n",
       "    }\n",
       "  }\n",
       "</style>\n",
       "\n",
       "  <script>\n",
       "    async function quickchart(key) {\n",
       "      const quickchartButtonEl =\n",
       "        document.querySelector('#' + key + ' button');\n",
       "      quickchartButtonEl.disabled = true;  // To prevent multiple clicks.\n",
       "      quickchartButtonEl.classList.add('colab-df-spinner');\n",
       "      try {\n",
       "        const charts = await google.colab.kernel.invokeFunction(\n",
       "            'suggestCharts', [key], {});\n",
       "      } catch (error) {\n",
       "        console.error('Error during call to suggestCharts:', error);\n",
       "      }\n",
       "      quickchartButtonEl.classList.remove('colab-df-spinner');\n",
       "      quickchartButtonEl.classList.add('colab-df-quickchart-complete');\n",
       "    }\n",
       "    (() => {\n",
       "      let quickchartButtonEl =\n",
       "        document.querySelector('#df-ba0b600b-80a4-4b87-a2b1-d7c3b868e51d button');\n",
       "      quickchartButtonEl.style.display =\n",
       "        google.colab.kernel.accessAllowed ? 'block' : 'none';\n",
       "    })();\n",
       "  </script>\n",
       "</div>\n",
       "\n",
       "    </div>\n",
       "  </div>\n"
      ],
      "text/plain": [
       "   age  balance  day  duration  campaign  pdays  previous\n",
       "0   58     2143    5       261         1     -1         0\n",
       "1   44       29    5       151         1     -1         0\n",
       "2   33        2    5        76         1     -1         0\n",
       "3   47     1506    5        92         1     -1         0\n",
       "4   33        1    5       198         1     -1         0"
      ]
     },
     "execution_count": 16,
     "metadata": {},
     "output_type": "execute_result"
    }
   ],
   "source": [
    "import pandas as pd\n",
    "\n",
    "# Load the dataset\n",
    "data = pd.read_csv(\"/content/banknumericdata.csv\")\n",
    "data.head()  # Display the first few rows\n"
   ]
  },
  {
   "cell_type": "markdown",
   "metadata": {
    "id": "exgathaadIQ4"
   },
   "source": [
    "2. Check info of the DataFrame and identify column with missing (null) values."
   ]
  },
  {
   "cell_type": "code",
   "execution_count": 17,
   "metadata": {
    "colab": {
     "base_uri": "https://localhost:8080/"
    },
    "id": "J56o0UngbdBY",
    "outputId": "10ee921b-f840-4a99-8b0c-14870b9b54dc"
   },
   "outputs": [
    {
     "name": "stdout",
     "output_type": "stream",
     "text": [
      "Missing values in each column:\n",
      "age         0\n",
      "balance     0\n",
      "day         0\n",
      "duration    0\n",
      "campaign    0\n",
      "pdays       0\n",
      "previous    0\n",
      "dtype: int64\n",
      "\n",
      "Columns with missing values: []\n"
     ]
    }
   ],
   "source": [
    "# Check for missing values\n",
    "null_values = data.isnull().sum()\n",
    "\n",
    "print(\"Missing values in each column:\")\n",
    "print(null_values)\n",
    "\n",
    "# Columns with missing values\n",
    "columns_with_missing = null_values[null_values > 0].index\n",
    "print(\"\\nColumns with missing values:\", list(columns_with_missing))\n"
   ]
  },
  {
   "cell_type": "markdown",
   "metadata": {
    "id": "cKeBcPggdIw_"
   },
   "source": [
    "3. For the column with missing values fill the values using various techniques we discussed above. Try\n",
    "to explain why did you select the particular methods for particular column.\n"
   ]
  },
  {
   "cell_type": "code",
   "execution_count": 18,
   "metadata": {
    "colab": {
     "base_uri": "https://localhost:8080/"
    },
    "id": "emx7DKU0dJEx",
    "outputId": "0fe0fdd4-29a0-4066-ac8a-48a472bfea0d"
   },
   "outputs": [
    {
     "name": "stdout",
     "output_type": "stream",
     "text": [
      "\n",
      "Missing values after imputation:\n",
      "age         0\n",
      "balance     0\n",
      "day         0\n",
      "duration    0\n",
      "campaign    0\n",
      "pdays       0\n",
      "previous    0\n",
      "dtype: int64\n"
     ]
    }
   ],
   "source": [
    "# Fill missing values in each column\n",
    "for col in columns_with_missing:\n",
    "    if data[col].dtype == 'float64' or data[col].dtype == 'int64':\n",
    "        # Numeric columns: Use mean\n",
    "        data[col].fillna(data[col].mean(), inplace=True)\n",
    "        print(f\"Filled missing values in '{col}' with mean because it is numeric data and mean preserves the overall dataset distribution.\")\n",
    "    elif data[col].dtype == 'object':\n",
    "        # Categorical columns: Use mode\n",
    "        data[col].fillna(data[col].mode()[0], inplace=True)\n",
    "        print(f\"Filled missing values in '{col}' with mode because it is categorical data and mode represents the most common value.\")\n",
    "\n",
    "# Confirm no missing values remain\n",
    "print(\"\\nMissing values after imputation:\")\n",
    "print(data.isnull().sum())\n"
   ]
  },
  {
   "cell_type": "markdown",
   "metadata": {
    "id": "An9CtYpAeovl"
   },
   "source": [
    "4. Check for any duplicate values present in Dataset and do necessary to manage the duplicate items.\n",
    "{Hint: dataset.duplicated.sum()}"
   ]
  },
  {
   "cell_type": "code",
   "execution_count": 13,
   "metadata": {
    "colab": {
     "base_uri": "https://localhost:8080/"
    },
    "id": "iiKa01v9epPK",
    "outputId": "039f0eba-7465-4377-e155-aa999ede797d"
   },
   "outputs": [
    {
     "name": "stdout",
     "output_type": "stream",
     "text": [
      "Number of duplicate rows in the dataset: 0\n",
      "No duplicate rows found in the dataset.\n"
     ]
    }
   ],
   "source": [
    "# Check for duplicate rows in the dataset\n",
    "duplicate_count = data.duplicated().sum()\n",
    "print(f\"Number of duplicate rows in the dataset: {duplicate_count}\")\n",
    "\n",
    "# If duplicates are found, drop them\n",
    "if duplicate_count > 0:\n",
    "    data = data.drop_duplicates()\n",
    "    print(f\"{duplicate_count} duplicate rows removed from the dataset.\")\n",
    "else:\n",
    "    print(\"No duplicate rows found in the dataset.\")\n"
   ]
  },
  {
   "cell_type": "markdown",
   "metadata": {
    "id": "vXf9ARXCeqEM"
   },
   "source": [
    "Problem - 1:\n",
    "Create a DataFrame that is subsetted for the columns ’Name’, ’Pclass’, ’Sex’, ’Age’, ’Fare’, and ’Survived’.\n",
    "Retain only those rows where ’Pclass’ is equal to 1, representing first-class passengers. What is the mean,\n",
    "median, maximum value, and minimum value of the ’Fare’ column?"
   ]
  },
  {
   "cell_type": "code",
   "execution_count": 22,
   "metadata": {
    "colab": {
     "base_uri": "https://localhost:8080/"
    },
    "id": "iHANCNoQeqr_",
    "outputId": "d66fff4d-61e6-46fe-db0a-3139d1d51cf2"
   },
   "outputs": [
    {
     "name": "stdout",
     "output_type": "stream",
     "text": [
      "Fare Statistics for First-Class Passengers:\n",
      "Mean: 84.1546875, Median: 60.287499999999994, Max: 512.3292, Min: 0.0\n"
     ]
    }
   ],
   "source": [
    "import pandas as pd\n",
    "import matplotlib.pyplot as plt\n",
    "import seaborn as sns\n",
    "\n",
    "# Load Titanic dataset\n",
    "data = pd.read_csv(\"/content/Titanic-Dataset.csv\")\n",
    "\n",
    "# Subset the DataFrame\n",
    "subset = data[['Name', 'Pclass', 'Sex', 'Age', 'Fare', 'Survived']]\n",
    "\n",
    "# Filter rows where 'Pclass' == 1\n",
    "first_class = subset[subset['Pclass'] == 1]\n",
    "\n",
    "# Calculate statistics for 'Fare'\n",
    "mean_fare = first_class['Fare'].mean()\n",
    "median_fare = first_class['Fare'].median()\n",
    "max_fare = first_class['Fare'].max()\n",
    "min_fare = first_class['Fare'].min()\n",
    "\n",
    "# Print statistics\n",
    "print(\"Fare Statistics for First-Class Passengers:\")\n",
    "print(f\"Mean: {mean_fare}, Median: {median_fare}, Max: {max_fare}, Min: {min_fare}\")\n"
   ]
  },
  {
   "cell_type": "markdown",
   "metadata": {
    "id": "65GUihDdF0eP"
   },
   "source": [
    "Problem - 2:\n",
    "How many null values are contained in the ’Age’ column in your subsetted DataFrame? Once you’ve found\n",
    "this out, drop them from your DataFrame.\n"
   ]
  },
  {
   "cell_type": "code",
   "execution_count": 23,
   "metadata": {
    "colab": {
     "base_uri": "https://localhost:8080/"
    },
    "id": "Vavt0zUrF01T",
    "outputId": "3571cca0-8922-429b-ddd5-40228d5e5920"
   },
   "outputs": [
    {
     "name": "stdout",
     "output_type": "stream",
     "text": [
      "Number of null values in 'Age': 30\n",
      "DataFrame after dropping null values in 'Age':\n",
      "<class 'pandas.core.frame.DataFrame'>\n",
      "Index: 186 entries, 1 to 889\n",
      "Data columns (total 6 columns):\n",
      " #   Column    Non-Null Count  Dtype  \n",
      "---  ------    --------------  -----  \n",
      " 0   Name      186 non-null    object \n",
      " 1   Pclass    186 non-null    int64  \n",
      " 2   Sex       186 non-null    object \n",
      " 3   Age       186 non-null    float64\n",
      " 4   Fare      186 non-null    float64\n",
      " 5   Survived  186 non-null    int64  \n",
      "dtypes: float64(2), int64(2), object(2)\n",
      "memory usage: 10.2+ KB\n",
      "None\n"
     ]
    }
   ],
   "source": [
    "# Check for null values in 'Age'\n",
    "null_age_count = first_class['Age'].isnull().sum()\n",
    "print(f\"Number of null values in 'Age': {null_age_count}\")\n",
    "\n",
    "# Drop rows with null values in 'Age'\n",
    "first_class = first_class.dropna(subset=['Age'])\n",
    "\n",
    "print(f\"DataFrame after dropping null values in 'Age':\")\n",
    "print(first_class.info())\n",
    "\n"
   ]
  },
  {
   "cell_type": "markdown",
   "metadata": {
    "id": "9GAxaGtAG7tW"
   },
   "source": [
    "Use one-hot encoding to convert the ’Embarked’ column into separate binary columns (’Embarked C’,\n",
    "’Embarked Q’, ’Embarked S’).\n",
    "2. Add these new columns to the original DataFrame.\n",
    "3. Drop the original ’Embarked’ column.\n",
    "4. Print the first few rows of the modified DataFrame to verify the changes."
   ]
  },
  {
   "cell_type": "code",
   "execution_count": 24,
   "metadata": {
    "colab": {
     "base_uri": "https://localhost:8080/"
    },
    "id": "GetmO7QjF6m4",
    "outputId": "3acc5181-9684-442a-f615-e4d18ac8511d"
   },
   "outputs": [
    {
     "name": "stdout",
     "output_type": "stream",
     "text": [
      "Modified DataFrame after one-hot encoding:\n",
      "   PassengerId  Survived  Pclass  \\\n",
      "0            1         0       3   \n",
      "1            2         1       1   \n",
      "2            3         1       3   \n",
      "3            4         1       1   \n",
      "4            5         0       3   \n",
      "\n",
      "                                                Name     Sex   Age  SibSp  \\\n",
      "0                            Braund, Mr. Owen Harris    male  22.0      1   \n",
      "1  Cumings, Mrs. John Bradley (Florence Briggs Th...  female  38.0      1   \n",
      "2                             Heikkinen, Miss. Laina  female  26.0      0   \n",
      "3       Futrelle, Mrs. Jacques Heath (Lily May Peel)  female  35.0      1   \n",
      "4                           Allen, Mr. William Henry    male  35.0      0   \n",
      "\n",
      "   Parch            Ticket     Fare Cabin  Embarked_C  Embarked_Q  Embarked_S  \n",
      "0      0         A/5 21171   7.2500   NaN       False       False        True  \n",
      "1      0          PC 17599  71.2833   C85        True       False       False  \n",
      "2      0  STON/O2. 3101282   7.9250   NaN       False       False        True  \n",
      "3      0            113803  53.1000  C123       False       False        True  \n",
      "4      0            373450   8.0500   NaN       False       False        True  \n"
     ]
    }
   ],
   "source": [
    "# One-hot encoding for 'Embarked'\n",
    "embarked_encoded = pd.get_dummies(data['Embarked'], prefix='Embarked')\n",
    "\n",
    "# Add the new binary columns to the original DataFrame\n",
    "data = pd.concat([data, embarked_encoded], axis=1)\n",
    "\n",
    "# Drop the original 'Embarked' column\n",
    "data = data.drop(columns=['Embarked'])\n",
    "\n",
    "# Display the first few rows of the modified DataFrame\n",
    "print(\"Modified DataFrame after one-hot encoding:\")\n",
    "print(data.head())\n"
   ]
  },
  {
   "cell_type": "markdown",
   "metadata": {
    "id": "vWmYwkQ4HAJ8"
   },
   "source": [
    "Use one-hot encoding to convert the ’Embarked’ column into separate binary columns (’Embarked C’,\n",
    "’Embarked Q’, ’Embarked S’).\n",
    "2. Add these new columns to the original DataFrame.\n",
    "3. Drop the original ’Embarked’ column.\n",
    "4. Print the first few rows of the modified DataFrame to verify the changes."
   ]
  },
  {
   "cell_type": "code",
   "execution_count": 25,
   "metadata": {
    "colab": {
     "base_uri": "https://localhost:8080/",
     "height": 559
    },
    "id": "Bznhmc0NF7X7",
    "outputId": "112d8bd7-c60f-4eef-c31d-ad709a48ff10"
   },
   "outputs": [
    {
     "name": "stdout",
     "output_type": "stream",
     "text": [
      "Mean Survival Rates by Gender:\n",
      "Sex\n",
      "female    0.742038\n",
      "male      0.188908\n",
      "Name: Survived, dtype: float64\n"
     ]
    },
    {
     "data": {
      "image/png": "[encoded data removed]",
      "text/plain": [
       "<Figure size 640x480 with 1 Axes>"
      ]
     },
     "metadata": {},
     "output_type": "display_data"
    }
   ],
   "source": [
    "# Calculate mean survival rates by gender\n",
    "mean_survival_by_gender = data.groupby('Sex')['Survived'].mean()\n",
    "print(\"Mean Survival Rates by Gender:\")\n",
    "print(mean_survival_by_gender)\n",
    "\n",
    "# Visualization\n",
    "sns.barplot(x='Sex', y='Survived', data=data)\n",
    "plt.title(\"Survival Rates by Gender\")\n",
    "plt.ylabel(\"Survival Rate\")\n",
    "plt.xlabel(\"Gender\")\n",
    "plt.show()\n"
   ]
  },
  {
   "cell_type": "markdown",
   "metadata": {
    "id": "LEga_hrBHEFX"
   },
   "source": [
    "Problem - 5:\n",
    "Draw a visualization that breaks your visualization from Exercise 3 down by the port of embarkation (’Embarked’). In this instance, compare the ports ’C’ (Cherbourg), ’Q’ (Queenstown), and ’S’ (Southampton)."
   ]
  },
  {
   "cell_type": "code",
   "execution_count": 26,
   "metadata": {
    "colab": {
     "base_uri": "https://localhost:8080/",
     "height": 529
    },
    "id": "mx6c9XjSHETi",
    "outputId": "c5f7b30e-4c3a-4a73-de8f-d9c9aad2ccdf"
   },
   "outputs": [
    {
     "data": {
      "image/png": "[encoded data removed]",
      "text/plain": [
       "<Figure size 761.111x500 with 1 Axes>"
      ]
     },
     "metadata": {},
     "output_type": "display_data"
    }
   ],
   "source": [
    "# Calculate survival rates for each embarkation port\n",
    "survival_by_embarkation = data[['Embarked_C', 'Embarked_Q', 'Embarked_S', 'Survived']]\n",
    "\n",
    "# Melt the DataFrame for visualization\n",
    "melted = survival_by_embarkation.melt(id_vars='Survived', var_name='Port', value_name='Value')\n",
    "\n",
    "# Visualization\n",
    "sns.catplot(x='Port', y='Survived', data=melted, kind='bar', height=5, aspect=1.5)\n",
    "plt.title(\"Survival Rates by Port of Embarkation\")\n",
    "plt.ylabel(\"Survival Rate\")\n",
    "plt.xlabel(\"Embarkation Port\")\n",
    "plt.show()\n"
   ]
  },
  {
   "cell_type": "markdown",
   "metadata": {
    "id": "uAa7vGGXHEmB"
   },
   "source": [
    "Problem - 6{Optional}:\n",
    "Show how the survival rates (’Survived’) vary by age group and passenger class (’Pclass’). Break up the\n",
    "’Age’ column into five quantiles in your DataFrame, and then compare the means of ’Survived’ by class\n",
    "and age group. Draw a visualization using a any plotting library to represent this graphically."
   ]
  },
  {
   "cell_type": "code",
   "execution_count": 27,
   "metadata": {
    "colab": {
     "base_uri": "https://localhost:8080/",
     "height": 614
    },
    "id": "XJemnZi4HE7s",
    "outputId": "b5922e26-39ec-495e-ae8d-d76990bc289c"
   },
   "outputs": [
    {
     "name": "stderr",
     "output_type": "stream",
     "text": [
      "<ipython-input-27-15f8d11fae7c>:5: FutureWarning: The default of observed=False is deprecated and will be changed to True in a future version of pandas. Pass observed=False to retain current behavior or observed=True to adopt the future default and silence this warning.\n",
      "  age_class_survival = data.groupby(['Pclass', 'AgeGroup'])['Survived'].mean().unstack()\n"
     ]
    },
    {
     "data": {
      "image/png": "[encoded data removed]",
      "text/plain": [
       "<Figure size 1200x600 with 1 Axes>"
      ]
     },
     "metadata": {},
     "output_type": "display_data"
    }
   ],
   "source": [
    "# Create age quantiles\n",
    "data['AgeGroup'] = pd.qcut(data['Age'], 5, labels=['Q1', 'Q2', 'Q3', 'Q4', 'Q5'])\n",
    "\n",
    "# Group by passenger class and age group to calculate survival means\n",
    "age_class_survival = data.groupby(['Pclass', 'AgeGroup'])['Survived'].mean().unstack()\n",
    "\n",
    "# Visualization\n",
    "age_class_survival.plot(kind='bar', figsize=(12, 6))\n",
    "plt.title(\"Survival Rates by Age Group and Passenger Class\")\n",
    "plt.ylabel(\"Survival Rate\")\n",
    "plt.xlabel(\"Passenger Class\")\n",
    "plt.legend(title=\"Age Groups\")\n",
    "plt.show()\n"
   ]
  }
 ],
 "metadata": {
  "colab": {
   "provenance": []
  },
  "kernelspec": {
   "display_name": "Python 3",
   "name": "python3"
  },
  "language_info": {
   "name": "python"
  }
 },
 "nbformat": 4,
 "nbformat_minor": 0
}
